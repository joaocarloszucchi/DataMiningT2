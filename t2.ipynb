{
 "cells": [
  {
   "cell_type": "code",
   "execution_count": 1,
   "metadata": {},
   "outputs": [],
   "source": [
    "import pandas as pd"
   ]
  },
  {
   "cell_type": "code",
   "execution_count": 2,
   "metadata": {},
   "outputs": [],
   "source": [
    "def load_data():\n",
    "    return pd.read_csv(\"TF_2023-FII.csv\")"
   ]
  },
  {
   "cell_type": "code",
   "execution_count": 3,
   "metadata": {},
   "outputs": [
    {
     "name": "stdout",
     "output_type": "stream",
     "text": [
      "      FUNDOS             TIPO PREÇO ATUAL (R$) LIQUIDEZ DIÁRIA (R$)      P/VP  \\\n",
      "0     PRTS11         SHOPPING           117,70                  NaN  1.961,67   \n",
      "1     SRVD11           TIJOLO             3,00               233,91    583,00   \n",
      "2     IBFF11           TIJOLO            66,40           162.549,50      4,49   \n",
      "3     RBRM11  DESENVOLVIMENTO        94.794,81                  NaN      3,45   \n",
      "4    LOFT11B  DESENVOLVIMENTO            29,90                  NaN      2,84   \n",
      "..       ...              ...              ...                  ...       ...   \n",
      "425        ?                ?            42,00                1.027      0,60   \n",
      "426        ?                ?             9,74         4.527.574,42      1,01   \n",
      "427        ?                ?           103,00           213.783,30      1,09   \n",
      "428        ?                ?           110,72        15.546.428,15      0,99   \n",
      "429        ?                ?           105,05                  NaN      0,83   \n",
      "\n",
      "    DIVIDEND YIELD DY (12M) ACUMULADO DY (3M) MÉDIA DY (12M) MÉDIA  \\\n",
      "0              NaN                NaN           NaN            NaN   \n",
      "1           2,29 %             3,30 %        1,65 %         1,65 %   \n",
      "2           0,00 %             8,02 %        0,15 %         0,67 %   \n",
      "3           0,00 %             0,00 %        0,00 %         0,00 %   \n",
      "4           0,00 %           189,83 %        0,00 %        15,82 %   \n",
      "..             ...                ...           ...            ...   \n",
      "425         1,57 %            15,34 %        1,06 %         1,28 %   \n",
      "426         1,20 %            15,22 %        1,25 %         1,27 %   \n",
      "427         0,39 %             0,39 %        0,39 %         0,39 %   \n",
      "428         0,76 %             9,50 %        0,76 %         0,71 %   \n",
      "429         0,65 %             7,83 %        0,66 %         0,65 %   \n",
      "\n",
      "    VARIAÇÃO PREÇO  ...     VPA P/VPA DY PATRIMONIAL VARIAÇÃO PATRIMONIAL  \\\n",
      "0              NaN  ...     NaN   NaN            NaN                  NaN   \n",
      "1          -9,79 %  ...    1,19  2,53        16,87 %              -0,11 %   \n",
      "2           0,00 %  ...   14,78  4,49       100,08 %             -79,09 %   \n",
      "3           0,00 %  ...     NaN   NaN            NaN                  NaN   \n",
      "4           0,00 %  ...     NaN   NaN            NaN                  NaN   \n",
      "..             ...  ...     ...   ...            ...                  ...   \n",
      "425        -7,79 %  ...     NaN   NaN            NaN                  NaN   \n",
      "426         2,68 %  ...    9,64  1,01         1,24 %               0,00 %   \n",
      "427         0,00 %  ...     NaN   NaN            NaN                  NaN   \n",
      "428        -1,06 %  ...  112,31  0,99         0,76 %              11,26 %   \n",
      "429         1,88 %  ...  100,97   0,9         0,69 %              -2,34 %   \n",
      "\n",
      "    QUANT. ATIVOS  VOLATILIDADE NUM. COTISTAS  TAX. GESTÃO  TAX. PERFORMANCE  \\\n",
      "0               2           NaN        11.000          NaN               NaN   \n",
      "1               0        135,21       107.000          NaN               NaN   \n",
      "2               0          4,20         3.870          NaN               NaN   \n",
      "3               0           NaN        54.000          NaN               NaN   \n",
      "4              16           NaN         1.000          NaN               NaN   \n",
      "..            ...           ...           ...          ...               ...   \n",
      "425             0         67,71       373.000          NaN               NaN   \n",
      "426             0         10,43       226.183          NaN               NaN   \n",
      "427             1         85,27       286.000          NaN               NaN   \n",
      "428             2         13,99       370.163          NaN               NaN   \n",
      "429             4         18,04       220.000          NaN               NaN   \n",
      "\n",
      "     TAX. ADMINISTRAÇÃO  \n",
      "0                   NaN  \n",
      "1                   NaN  \n",
      "2                   NaN  \n",
      "3                   NaN  \n",
      "4                   NaN  \n",
      "..                  ...  \n",
      "425                 NaN  \n",
      "426                 NaN  \n",
      "427                 NaN  \n",
      "428                 NaN  \n",
      "429                 NaN  \n",
      "\n",
      "[430 rows x 21 columns]\n"
     ]
    }
   ],
   "source": [
    "df = load_data()\n",
    "\n",
    "print(df)"
   ]
  }
 ],
 "metadata": {
  "kernelspec": {
   "display_name": "Python 3",
   "language": "python",
   "name": "python3"
  },
  "language_info": {
   "codemirror_mode": {
    "name": "ipython",
    "version": 3
   },
   "file_extension": ".py",
   "mimetype": "text/x-python",
   "name": "python",
   "nbconvert_exporter": "python",
   "pygments_lexer": "ipython3",
   "version": "3.10.6"
  }
 },
 "nbformat": 4,
 "nbformat_minor": 2
}
